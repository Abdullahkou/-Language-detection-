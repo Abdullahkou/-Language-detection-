{
 "cells": [
  {
   "cell_type": "code",
   "execution_count": null,
   "id": "b9d44758-b4ec-4b69-a1fc-f8599be18334",
   "metadata": {},
   "outputs": [],
   "source": [
    "import copy\n",
    "import collections\n",
    "import string\n",
    "from pandas import *\n",
    "from string import digits\n",
    "import re\n",
    "import math\n",
    "import csv\n",
    "import matplotlib.pyplot as plt\n",
    "import numpy as np\n"
   ]
  },
  {
   "cell_type": "code",
   "execution_count": null,
   "id": "8f4ba292",
   "metadata": {},
   "outputs": [],
   "source": [
    "n_gram = 4  #ng-ramm modell festlegen\n",
    "\n",
    "textXXL = \"\""
   ]
  },
  {
   "cell_type": "code",
   "execution_count": null,
   "id": "f8d499ba-6210-4691-bae0-293b424a0430",
   "metadata": {},
   "outputs": [],
   "source": [
    "# bitte die Pfade ändern! hier und für die Tests ganz unten.\n",
    "# Bei Fehlermeldung bitte <encoding=\"utf8\"> im open Kopf einfügen // ich nutze MacOS\n",
    "#x_train.txt\n",
    "with open('/Users/abdullah/Documents/WS2223/Sprach:Text verstehen/A2_Umsetzung/wili-2018/x_train.txt','r') as f:\n",
    "   texte = f.readlines()\n",
    "f.close()"
   ]
  },
  {
   "cell_type": "code",
   "execution_count": null,
   "id": "c3f41820-c7e2-4881-9355-fbce62f52642",
   "metadata": {},
   "outputs": [],
   "source": [
    "#y_train.txt\n",
    "with open('/Users/abdullah/Documents/WS2223/Sprach:Text verstehen/A2_Umsetzung/wili-2018/y_train.txt','r') as f:\n",
    "    sprachen_id = f.readlines()\n",
    "f.close()"
   ]
  },
  {
   "cell_type": "code",
   "execution_count": null,
   "id": "c58c9c44",
   "metadata": {},
   "outputs": [],
   "source": [
    "#labels.csv\n",
    "sprachen_ausgeschrieben = {}\n",
    "data_new = []\n",
    "\n",
    "with open('/Users/abdullah/Documents/WS2223/Sprach:Text verstehen/A2_Umsetzung/wili-2018/labels.csv', newline='') as f:\n",
    "    reader = csv.reader(f)\n",
    "    data = list(reader)\n",
    "for i in data:\n",
    "    i = i[0].split(\";\")\n",
    "    data_new.append(i)\n",
    "\n",
    "for i in range (1,len(data_new)):\n",
    "    sprachen_ausgeschrieben[data_new[i][0]] = data_new[i][4]\n"
   ]
  },
  {
   "cell_type": "markdown",
   "id": "9abb74a6",
   "metadata": {},
   "source": [
    "##### Text vorverarbeiten "
   ]
  },
  {
   "cell_type": "code",
   "execution_count": null,
   "id": "edd4ed4c-fe7b-42bc-a50f-12d99b760fdb",
   "metadata": {},
   "outputs": [],
   "source": [
    "for i in range(len(sprachen_id)):\n",
    "    sprachen_id[i] = sprachen_id[i].replace(\"\\n\",\"\")"
   ]
  },
  {
   "cell_type": "code",
   "execution_count": null,
   "id": "47335fee-adcf-44d5-ad87-68c1b28da4db",
   "metadata": {},
   "outputs": [],
   "source": [
    "dict = {}\n",
    "for i in range(len(texte)):\n",
    "    if sprachen_id[i] in dict :\n",
    "        old = dict[sprachen_id[i]]\n",
    "        dict[sprachen_id[i]] = old + \" \" + texte[i]\n",
    "    else:\n",
    "        dict[sprachen_id[i]] = texte[i]"
   ]
  },
  {
   "cell_type": "code",
   "execution_count": null,
   "id": "84d69c9f-e4d3-4ae1-a8d1-870e943f7a95",
   "metadata": {},
   "outputs": [],
   "source": [
    "def text_vorverarbeiten(text):\n",
    "    text = re.sub(r'[/\\\\!;:<>@^#€$()۔,’„.–“\"=&§%^*?+_\\':;~`0-9]', '', text)\n",
    "    text = text.replace(\"،\", \" \")\n",
    "    text = text.replace(\"-\", \" \")\n",
    "    text = text.replace(\"—\", \" \")\n",
    "    text = text.replace('\\u202c',' ')\n",
    "    text = text.replace('\\u200c',' ')\n",
    "    text = re.sub(r'\\s+', ' ',   text)  \n",
    "    text = text.lower()\n",
    "\n",
    "    \n",
    "    return text"
   ]
  },
  {
   "cell_type": "code",
   "execution_count": null,
   "id": "fd897e02-9933-488a-9d60-c46006d22b4e",
   "metadata": {},
   "outputs": [],
   "source": [
    "for sprache in dict.keys():\n",
    "    dict[sprache] = text_vorverarbeiten(dict[sprache])\n",
    "    textXXL += \" \" + dict[sprache]\n",
    "textXXL = text_vorverarbeiten(textXXL)"
   ]
  },
  {
   "cell_type": "code",
   "execution_count": null,
   "id": "5285b674-ebd4-4a1d-9d5f-38f876cff452",
   "metadata": {},
   "outputs": [],
   "source": [
    "def ngrams( content, n):\n",
    "    d = {}\n",
    "    length = len( content )\n",
    "    for i in range( 0, length - n + 1 ):\n",
    "        k = content[i:i + n]\n",
    "        if k not in d:\n",
    "            d[k] = 0\n",
    "        d[k] += 1\n",
    "    return d"
   ]
  },
  {
   "cell_type": "code",
   "execution_count": null,
   "id": "ac31e9f3",
   "metadata": {},
   "outputs": [],
   "source": [
    "def ngram_vocab( content, n):\n",
    "    d = {}\n",
    "    length = len( content )\n",
    "    for i in range( 0, length - n + 1 ):\n",
    "        k = content[i:i + n]\n",
    "        if k not in d:\n",
    "            d[k] = ''\n",
    "    return d"
   ]
  },
  {
   "cell_type": "code",
   "execution_count": null,
   "id": "35cb000c",
   "metadata": {},
   "outputs": [],
   "source": [
    "def ngram_ohne_count( content, n):\n",
    "    d = []\n",
    "    length = len( content )\n",
    "    for i in range( 0, length - n + 1 ):\n",
    "        k = content[i:i + n]\n",
    "        d.append(k)\n",
    "\n",
    "    return d"
   ]
  },
  {
   "cell_type": "code",
   "execution_count": null,
   "id": "dfe8b423",
   "metadata": {},
   "outputs": [],
   "source": [
    "vocab = ngram_vocab(textXXL,n_gram)\n",
    "sprachen_ngrams = []\n",
    "texte = list(dict.items())\n",
    "for l in range (len(dict)): # l = language\n",
    "    text = texte[l][1] # je sprache\n",
    "    n_grams = ngrams(text,n_gram)\n",
    "    sprachen_ngrams.append((texte[l][0],n_grams))"
   ]
  },
  {
   "cell_type": "code",
   "execution_count": null,
   "id": "411a823c",
   "metadata": {},
   "outputs": [],
   "source": [
    "len_vocab = len(vocab)\n",
    "print(len_vocab)\n",
    "len_vocan_sprachen = {}\n",
    "for i in range(len(sprachen_ngrams)) :\n",
    "   len_vocan_sprachen[sprachen_ngrams[i][0]] = sum(sprachen_ngrams[i][1].values())\n"
   ]
  },
  {
   "cell_type": "markdown",
   "id": "cf1f3a5e",
   "metadata": {},
   "source": [
    "##### Wahrscheinlichkeiten berechnen "
   ]
  },
  {
   "cell_type": "code",
   "execution_count": null,
   "id": "c30b09aa",
   "metadata": {},
   "outputs": [],
   "source": [
    "#Naive Bayes-Klassifikator & Laplace(add-1)smoothing\n",
    "dic_wahrscheinlichkeiten = []\n",
    "for i in range(len(sprachen_ngrams)):\n",
    "    sprache_dic = {}\n",
    "    for g in sprachen_ngrams[i][1].keys():\n",
    "        sprache_dic[g] = ((1+sprachen_ngrams[i][1][g])/(len_vocab + len_vocan_sprachen[sprachen_ngrams[i][0]]))\n",
    "    dic_wahrscheinlichkeiten.append((sprachen_ngrams[i][0], sprache_dic))"
   ]
  },
  {
   "cell_type": "code",
   "execution_count": null,
   "id": "3d6641ac",
   "metadata": {},
   "outputs": [],
   "source": [
    "#log-wahrscheinlichkeit\n",
    "def Wahrscheinlichkeit_sprache(bigrams, sprache_wahrscheinlichkeiten,name_der_Sprache):\n",
    "    wk = 0.0\n",
    "    for test_text in bigrams:  \n",
    "        if test_text in sprache_wahrscheinlichkeiten.keys():\n",
    "            wk += math.log(sprache_wahrscheinlichkeiten[test_text],2)\n",
    "        else: \n",
    "            wk += math.log((1/(len_vocab + len_vocan_sprachen[name_der_Sprache])),2)\n",
    "            #wk += math.log(10e-25,2)\n",
    "    return wk*(1/len(dict))"
   ]
  },
  {
   "cell_type": "code",
   "execution_count": null,
   "id": "aba95e8a",
   "metadata": {},
   "outputs": [],
   "source": [
    "def wahrscheinlichkeiten_berechnen(text):\n",
    "    wahrscheinlichkeiten = []\n",
    "    dic_test_text = ngram_ohne_count(text,n_gram)\n",
    "    for i in range (len(dic_wahrscheinlichkeiten)): #i ist eine sprache\n",
    "       wahrscheinlichkeiten.append((dic_wahrscheinlichkeiten[i][0], Wahrscheinlichkeit_sprache(dic_test_text,dic_wahrscheinlichkeiten[i][1],dic_wahrscheinlichkeiten[i][0])))\n",
    "\n",
    "    return wahrscheinlichkeiten"
   ]
  },
  {
   "cell_type": "code",
   "execution_count": null,
   "id": "9e35cdaa",
   "metadata": {},
   "outputs": [],
   "source": [
    "def get_language_name(d):\n",
    "    new_d = {}\n",
    "    for i in d: \n",
    "        new_key = sprachen_ausgeschrieben[i]\n",
    "        new_d[new_key] = d[i]       \n",
    "    return new_d"
   ]
  },
  {
   "cell_type": "code",
   "execution_count": null,
   "id": "f37afbc4",
   "metadata": {},
   "outputs": [],
   "source": [
    "def schaetze(text,sprachennameausgeschrieben=False):\n",
    "   # text = text_vorverarbeiten(text) -----> # die Tests die ich ausgeführt habe habe ich bereits schon vorbereitet deswegen ist die Zeile hier auskommentiert ansonsten bevor fremde tests durchgeführt werden -> text vorverarbeiten!\n",
    "    res1 =  wahrscheinlichkeiten_berechnen(text)\n",
    "    res1.sort(key=lambda x:x[1],reverse = True)\n",
    "    res1 = res1[:3]\n",
    "\n",
    "    dic_res = {}\n",
    "    dic_res[res1[0][0]] = res1[0][1]\n",
    "    dic_res[res1[1][0]] = res1[1][1]\n",
    "    dic_res[res1[2][0]] = res1[2][1]\n",
    "    if sprachennameausgeschrieben:\n",
    "      dic_res= get_language_name(dic_res)\n",
    "    return dic_res"
   ]
  },
  {
   "cell_type": "markdown",
   "id": "a465bd2c",
   "metadata": {},
   "source": [
    "#### einen schnellen Test ausführen, text1 = irgendeine gewollte Sprache zum schätzen "
   ]
  },
  {
   "cell_type": "code",
   "execution_count": 30,
   "id": "3f7c6724",
   "metadata": {},
   "outputs": [
    {
     "name": "stdout",
     "output_type": "stream",
     "text": [
      "{'Albanisch': -0.3388599231463731, 'Nahuatl': -0.3519302410504222, 'Interlingua': -0.35348102973938933}\n"
     ]
    }
   ],
   "source": [
    "text1=  \"shqptar\"\n",
    "text1 = text_vorverarbeiten(text1)\n",
    "res1 = schaetze(text1,True)\n",
    "\n",
    "print(res1)"
   ]
  },
  {
   "cell_type": "markdown",
   "id": "87beca92",
   "metadata": {},
   "source": [
    "### Testen:\n"
   ]
  },
  {
   "cell_type": "code",
   "execution_count": null,
   "id": "a1a69429",
   "metadata": {},
   "outputs": [],
   "source": [
    "#x_test.txt\n",
    "with open('/Users/abdullah/Documents/WS2223/Sprach:Text verstehen/A2_Umsetzung/wili-2018/x_test.txt','r') as f:\n",
    "   test_texte = f.readlines()\n",
    "f.close()\n"
   ]
  },
  {
   "cell_type": "code",
   "execution_count": null,
   "id": "4796e0ab",
   "metadata": {},
   "outputs": [],
   "source": [
    "#y_test.txt\n",
    "with open('/Users/abdullah/Documents/WS2223/Sprach:Text verstehen/A2_Umsetzung/wili-2018/y_test.txt','r') as f:\n",
    "    test_sprachen_id = f.readlines()\n",
    "f.close()"
   ]
  },
  {
   "cell_type": "code",
   "execution_count": null,
   "id": "d8938581",
   "metadata": {},
   "outputs": [],
   "source": [
    "for i in range(len(test_sprachen_id)):\n",
    "    test_sprachen_id[i] = test_sprachen_id[i].replace(\"\\n\",\"\")"
   ]
  },
  {
   "cell_type": "code",
   "execution_count": null,
   "id": "2dcc5726",
   "metadata": {},
   "outputs": [],
   "source": [
    "for i in range(len(test_texte)):\n",
    "    test_texte[i] =  text_vorverarbeiten(test_texte[i])\n"
   ]
  },
  {
   "cell_type": "code",
   "execution_count": null,
   "id": "422a9b8e",
   "metadata": {},
   "outputs": [],
   "source": [
    "test_ergbnisse= {}\n",
    "for i in range(len(test_sprachen_id)):\n",
    "    if (test_sprachen_id[i] not in test_ergbnisse):\n",
    "        test_ergbnisse[test_sprachen_id[i]] = 0\n",
    "    else:\n",
    "        continue"
   ]
  },
  {
   "cell_type": "markdown",
   "id": "180a92a6",
   "metadata": {},
   "source": [
    "##### Achtung dieser Test läuft ca. 44 min -> weil der Testdatensatz erheblich groß ist (500*235)"
   ]
  },
  {
   "cell_type": "code",
   "execution_count": null,
   "id": "568d3d0d",
   "metadata": {},
   "outputs": [],
   "source": [
    "for i in range(len(test_sprachen_id)):\n",
    "    ergebnis = schaetze(test_texte[i])\n",
    "    if test_sprachen_id[i] in ergebnis:\n",
    "        test_ergbnisse[test_sprachen_id[i]] += 1"
   ]
  },
  {
   "cell_type": "code",
   "execution_count": null,
   "id": "e8f5401a",
   "metadata": {},
   "outputs": [],
   "source": [
    "ergebnis_xy = {}\n",
    "for i in test_ergbnisse.keys():\n",
    "    ergebnis_xy[i]=(test_ergbnisse[i], test_sprachen_id.count(i),((test_ergbnisse[i]/test_sprachen_id.count(i))*100.0))"
   ]
  },
  {
   "cell_type": "code",
   "execution_count": null,
   "id": "1f46e917",
   "metadata": {},
   "outputs": [],
   "source": [
    "# Die durchschnittliche Genauigkeit \n",
    "sum_3 = 0\n",
    "for i in ergebnis_xy:\n",
    "    sum_3 += ergebnis_xy[i][2]\n",
    "\n",
    "mtlwert = sum_3/len(ergebnis_xy)    \n",
    "\n",
    "print(mtlwert)"
   ]
  },
  {
   "cell_type": "code",
   "execution_count": null,
   "id": "a0d7e3d5",
   "metadata": {},
   "outputs": [],
   "source": [
    "print(ergebnis_xy) # (erfolgreiche Tests,Anzahl tests insgesamt, %)"
   ]
  },
  {
   "cell_type": "markdown",
   "id": "2249c2ed",
   "metadata": {},
   "source": [
    "#### für den Fall, dass Sie den Code laufen lassen, hier sind meine Ergbnisse zum Vergleich! \n",
    "{'mwl': (495, 500, 99.0), 'nld': (492, 500, 98.4), 'ava': (367, 500, 73.4), 'tcy': (500, 500, 100.0), 'bjn': (475, 500, 95.0), 'mon': (498, 500, 99.6), 'glk': (482, 500, 96.39999999999999), 'lez': (484, 500, 96.8), 'bul': (482, 500, 96.39999999999999), 'nan': (492, 500, 98.4), 'sco': (496, 500, 99.2), 'lij': (495, 500, 99.0), 'ido': (490, 500, 98.0), 'ara': (497, 500, 99.4), 'kan': (492, 500, 98.4), 'hat': (491, 500, 98.2), 'bar': (460, 500, 92.0), 'mri': (500, 500, 100.0), 'kok': (461, 500, 92.2), 'kor': (489, 500, 97.8), 'koi': (466, 500, 93.2), 'mya': (498, 500, 99.6), 'ind': (490, 500, 98.0), 'jpn': (473, 500, 94.6), 'kin': (477, 500, 95.39999999999999), 'be-tarask': (494, 500, 98.8), 'egl': (486, 500, 97.2), 'mzn': (489, 500, 97.8), 'eus': (497, 500, 99.4), 'cat': (479, 500, 95.8), 'nds-nl': (498, 500, 99.6), 'tsn': (491, 500, 98.2), 'sin': (470, 500, 94.0), 'pnb': (495, 500, 99.0), 'fin': (497, 500, 99.4), 'min': (498, 500, 99.6), 'stq': (490, 500, 98.0), 'zho': (387, 500, 77.4), 'rus': (499, 500, 99.8), 'kur': (494, 500, 98.8), 'chv': (485, 500, 97.0), 'orm': (485, 500, 97.0), 'ell': (494, 500, 98.8), 'nob': (496, 500, 99.2), 'spa': (489, 500, 97.8), 'pag': (441, 500, 88.2), 'rup': (444, 500, 88.8), 'hye': (489, 500, 97.8), 'fra': (497, 500, 99.4), 'csb': (497, 500, 99.4), 'san': (495, 500, 99.0), 'lzh': (429, 500, 85.8), 'cym': (497, 500, 99.4), 'als': (495, 500, 99.0), 'snd': (496, 500, 99.2), 'nrm': (495, 500, 99.0), 'kir': (494, 500, 98.8), 'hak': (484, 500, 96.8), 'vol': (485, 500, 97.0), 'zh-yue': (323, 500, 64.60000000000001), 'eng': (499, 500, 99.8), 'gle': (490, 500, 98.0), 'vls': (491, 500, 98.2), 'yid': (491, 500, 98.2), 'mal': (492, 500, 98.4), 'asm': (485, 500, 97.0), 'srp': (455, 500, 91.0), 'dsb': (493, 500, 98.6), 'slv': (485, 500, 97.0), 'yor': (440, 500, 88.0), 'jav': (480, 500, 96.0), 'lao': (479, 500, 95.8), 'vro': (489, 500, 97.8), 'guj': (482, 500, 96.39999999999999), 'bre': (493, 500, 98.6), 'uzb': (497, 500, 99.4), 'rue': (494, 500, 98.8), 'chr': (492, 500, 98.4), 'ben': (441, 500, 88.2), 'mrj': (489, 500, 97.8), 'aze': (489, 500, 97.8), 'lim': (497, 500, 99.4), 'frp': (488, 500, 97.6), 'krc': (487, 500, 97.39999999999999), 'mlg': (500, 500, 100.0), 'msa': (489, 500, 97.8), 'ksh': (484, 500, 96.8), 'hin': (488, 500, 97.6), 'khm': (441, 500, 88.2), 'glv': (491, 500, 98.2), 'lug': (490, 500, 98.0), 'que': (475, 500, 95.0), 'zea': (495, 500, 99.0), 'arz': (497, 500, 99.4), 'arg': (497, 500, 99.4), 'kab': (466, 500, 93.2), 'wuu': (370, 500, 74.0), 'bod': (499, 500, 99.8), 'ita': (495, 500, 99.0), 'wol': (468, 500, 93.60000000000001), 'fry': (491, 500, 98.2), 'ast': (493, 500, 98.6), 'afr': (498, 500, 99.6), 'srd': (487, 500, 97.39999999999999), 'sqi': (489, 500, 97.8), 'oci': (496, 500, 99.2), 'gag': (495, 500, 99.0), 'cor': (498, 500, 99.6), 'slk': (499, 500, 99.8), 'swa': (481, 500, 96.2), 'lin': (466, 500, 93.2), 'pdc': (478, 500, 95.6), 'grn': (483, 500, 96.6), 'mai': (488, 500, 97.6), 'hau': (496, 500, 99.2), 'nci': (468, 500, 93.60000000000001), 'war': (498, 500, 99.6), 'sme': (492, 500, 98.4), 'ang': (455, 500, 91.0), 'cos': (495, 500, 99.0), 'mar': (478, 500, 95.6), 'bpy': (497, 500, 99.4), 'che': (496, 500, 99.2), 'sna': (475, 500, 95.0), 'scn': (498, 500, 99.6), 'xmf': (486, 500, 97.2), 'tam': (494, 500, 98.8), 'urd': (493, 500, 98.6), 'nds': (496, 500, 99.2), 'diq': (493, 500, 98.6), 'tel': (471, 500, 94.19999999999999), 'vep': (499, 500, 99.8), 'hrv': (496, 500, 99.2), 'ltg': (497, 500, 99.4), 'ibo': (440, 500, 88.0), 'gla': (490, 500, 98.0), 'vie': (491, 500, 98.2), 'bho': (480, 500, 96.0), 'pcd': (404, 500, 80.80000000000001), 'lrc': (488, 500, 97.6), 'azb': (499, 500, 99.8), 'lav': (489, 500, 97.8), 'oss': (499, 500, 99.8), 'mdf': (483, 500, 96.6), 'heb': (499, 500, 99.8), 'amh': (494, 500, 98.8), 'bel': (486, 500, 97.2), 'kat': (491, 500, 98.2), 'kaa': (498, 500, 99.6), 'tat': (483, 500, 96.6), 'nno': (497, 500, 99.4), 'new': (487, 500, 97.39999999999999), 'cbk': (497, 500, 99.4), 'sun': (474, 500, 94.8), 'ori': (479, 500, 95.8), 'tuk': (498, 500, 99.6), 'xho': (473, 500, 94.6), 'div': (499, 500, 99.8), 'ina': (495, 500, 99.0), 'jam': (493, 500, 98.6), 'hsb': (486, 500, 97.2), 'uig': (493, 500, 98.6), 'fur': (486, 500, 97.2), 'crh': (495, 500, 99.0), 'ile': (460, 500, 92.0), 'vec': (495, 500, 99.0), 'lad': (492, 500, 98.4), 'pap': (487, 500, 97.39999999999999), 'mlt': (497, 500, 99.4), 'mkd': (488, 500, 97.6), 'por': (480, 500, 96.0), 'ltz': (474, 500, 94.8), 'roa-tara': (483, 500, 96.6), 'epo': (490, 500, 98.0), 'srn': (486, 500, 97.2), 'myv': (486, 500, 97.2), 'bak': (491, 500, 98.2), 'swe': (498, 500, 99.6), 'nap': (494, 500, 98.8), 'tgl': (493, 500, 98.6), 'glg': (492, 500, 98.4), 'map-bms': (497, 500, 99.4), 'dan': (490, 500, 98.0), 'ces': (493, 500, 98.6), 'bcl': (484, 500, 96.8), 'deu': (491, 500, 98.2), 'est': (484, 500, 96.8), 'pan': (492, 500, 98.4), 'isl': (499, 500, 99.8), 'fao': (498, 500, 99.6), 'bxr': (469, 500, 93.8), 'pam': (479, 500, 95.8), 'tyv': (491, 500, 98.2), 'ukr': (492, 500, 98.4), 'aym': (466, 500, 93.2), 'pol': (498, 500, 99.6), 'dty': (497, 500, 99.4), 'som': (480, 500, 96.0), 'fas': (499, 500, 99.8), 'wln': (498, 500, 99.6), 'sgs': (500, 500, 100.0), 'bos': (496, 500, 99.2), 'szl': (496, 500, 99.2), 'pfl': (490, 500, 98.0), 'hbs': (481, 500, 96.2), 'pus': (480, 500, 96.0), 'kaz': (499, 500, 99.8), 'jbo': (500, 500, 100.0), 'kom': (470, 500, 94.0), 'ron': (494, 500, 98.8), 'nep': (491, 500, 98.2), 'hif': (464, 500, 92.80000000000001), 'sah': (494, 500, 98.8), 'ilo': (483, 500, 96.6), 'hun': (494, 500, 98.8), 'nav': (500, 500, 100.0), 'kbd': (500, 500, 100.0), 'tha': (494, 500, 98.8), 'ext': (479, 500, 95.8), 'tet': (448, 500, 89.60000000000001), 'ace': (494, 500, 98.8), 'tur': (495, 500, 99.0), 'cdo': (480, 500, 96.0), 'mhr': (487, 500, 97.39999999999999), 'tgk': (488, 500, 97.6), 'lat': (470, 500, 94.0), 'lit': (492, 500, 98.4), 'ceb': (500, 500, 100.0), 'lmo': (456, 500, 91.2), 'olo': (496, 500, 99.2), 'ton': (497, 500, 99.4), 'nso': (485, 500, 97.0), 'roh': (489, 500, 97.8), 'udm': (490, 500, 98.0), 'ckb': (498, 500, 99.6)}"
   ]
  },
  {
   "cell_type": "markdown",
   "id": "a905a7ad",
   "metadata": {},
   "source": [
    "## Visualisierung "
   ]
  },
  {
   "cell_type": "code",
   "execution_count": null,
   "id": "af4c4717",
   "metadata": {},
   "outputs": [],
   "source": [
    "\n",
    "wichtige_Sprache = {}\n",
    "wichtige_Sprache[\"spa\"] = 0\n",
    "wichtige_Sprache[\"ara\"] = 0\n",
    "wichtige_Sprache[\"deu\"] = 0\n",
    "wichtige_Sprache[\"eng\"] = 0\n",
    "wichtige_Sprache[\"tcy\"] = 0\n",
    "wichtige_Sprache[\"hin\"] = 0\n",
    "wichtige_Sprache[\"jpn\"] = 0\n",
    "wichtige_Sprache[\"ita\"] = 0\n",
    "wichtige_Sprache[\"lat\"] = 0\n",
    "wichtige_Sprache[\"rus\"] = 0\n",
    "wichtige_Sprache[\"zho\"] = 0\n",
    "wichtige_Sprache[\"fra\"] = 0\n",
    "wichtige_Sprache[\"por\"] = 0\n",
    "\n",
    "\n",
    "for i in ergebnis_xy.keys():\n",
    "    if i in wichtige_Sprache:\n",
    "        wichtige_Sprache[i]= ergebnis_xy[i]\n",
    "\n",
    "print(wichtige_Sprache)"
   ]
  },
  {
   "cell_type": "code",
   "execution_count": null,
   "id": "15b1c854",
   "metadata": {},
   "outputs": [],
   "source": [
    "l = []\n",
    "for i in wichtige_Sprache:\n",
    "    l.append(wichtige_Sprache[i][2])\n",
    "\n",
    "ywerte = l\n",
    "xwerte = get_language_name(wichtige_Sprache).keys()\n",
    "\n",
    "fig = plt.figure(figsize = (20, 10)) \n",
    "g = 20\n",
    "plt.rc ('font', size = g) # steuert die Standardtextgröße\n",
    "plt.rc ('axes', titlesize = g) # Schriftgröße des Titels\n",
    "plt.rc ('axes', labelsize = g) # Schriftgröße der x- und y-Beschriftungen\n",
    "plt.rc ('xtick', labelsize = g) #Schriftgröße der x-Tick-Labels\n",
    "plt.rc ('ytick', labelsize = g-5) #Schriftgröße der y-Tick-Labels\n",
    "plt.rc ('legend', fontsize = g) \n",
    "# plt.axhline()\n",
    "#plt.bar(xwerte, ywerte,color = \"Blue\",  width = 0.5)\n",
    "plt.xticks(rotation=45)\n",
    "plt.yticks(np.arange(0, 100.5, 1))\n",
    "plt.xlabel(\"Sprache\")\n",
    "plt.ylabel(\"Der Anteil der erfolgreichen Tests in %\")\n",
    "\n",
    "plt.rc('grid', linestyle=':', color='black', linewidth=2)\n",
    "plt.scatter(xwerte, ywerte,color=\"blue\",s=80)\n",
    "plt.grid(True)\n",
    "plt.show()"
   ]
  },
  {
   "cell_type": "code",
   "execution_count": null,
   "id": "0d815522",
   "metadata": {},
   "outputs": [],
   "source": []
  }
 ],
 "metadata": {
  "kernelspec": {
   "display_name": "Python 3 (ipykernel)",
   "language": "python",
   "name": "python3"
  },
  "language_info": {
   "codemirror_mode": {
    "name": "ipython",
    "version": 3
   },
   "file_extension": ".py",
   "mimetype": "text/x-python",
   "name": "python",
   "nbconvert_exporter": "python",
   "pygments_lexer": "ipython3",
   "version": "3.10.4"
  },
  "vscode": {
   "interpreter": {
    "hash": "aee8b7b246df8f9039afb4144a1f6fd8d2ca17a180786b69acc140d282b71a49"
   }
  }
 },
 "nbformat": 4,
 "nbformat_minor": 5
}
